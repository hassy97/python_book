{
 "cells": [
  {
   "cell_type": "code",
   "execution_count": 2,
   "id": "11b1022c-a34e-4f7d-9529-48c42fc087b0",
   "metadata": {},
   "outputs": [],
   "source": [
    "corpus = open('./datasets/badges.data').read()"
   ]
  },
  {
   "cell_type": "code",
   "execution_count": 3,
   "id": "3b2affa9-1349-470c-bac1-02f533dea39d",
   "metadata": {},
   "outputs": [
    {
     "data": {
      "text/plain": [
       "\"\\n+ Naoki Abe\\n- Myriam Abramson\\n+ David W. Aha\\n+ Kamal M. Ali\\n- Eric Allender\\n+ Dana Angluin\\n- Chidanand Apte\\n+ Minoru Asada\\n+ Lars Asker\\n+ Javed Aslam\\n+ Haralabos Athanassiou\\n+ Jose L. Balcazar\\n+ Timothy P. Barber\\n+ Michael W. Barley\\n- Cristina Baroglio\\n+ Peter Bartlett\\n- Eric Baum\\n+ Welton Becket\\n- Shai Ben-David\\n+ George Berg\\n+ Neil Berkman\\n+ Malini Bhandaru\\n+ Bir Bhanu\\n+ Reinhard Blasig\\n- Avrim Blum\\n- Anselm Blumer\\n+ Justin Boyan\\n+ Carla E. Brodley\\n+ Nader Bshouty\\n- Wray Buntine\\n- Andrey Burago\\n+ Tom Bylander\\n+ Bill Byrne\\n- Claire Cardie\\n+ Richard A. Caruana\\n+ John Case\\n+ Jason Catlett\\n+ Nicolo Cesa-Bianchi\\n- Philip Chan\\n+ Mark Changizi\\n+ Pang-Chieh Chen\\n- Zhixiang Chen\\n+ Wan P. Chiang\\n- Steve A. Chien\\n+ Jeffery Clouse\\n+ William Cohen\\n+ David Cohn\\n- Clare Bates Congdon\\n- Antoine Cornuejols\\n+ Mark W. Craven\\n+ Robert P. Daley\\n+ Lindley Darden\\n- Chris Darken\\n- Bhaskar Dasgupta\\n- Brian D. Davidson\\n+ Michael de la Maza\\n- Olivier De Vel\\n- Scott E. Decatur\\n+ Gerald F. DeJong\\n+ Kan Deng\\n- Thomas G. Dietterich\\n+ Michael J. Donahue\\n+ George A. Drastal\\n+ Harris Drucker\\n- Chris Drummond\\n+ Hal Duncan\\n- Thomas Ellman\\n+ Tapio Elomaa\\n+ Susan L. Epstein\\n+ Bob Evans\\n- Claudio Facchinetti\\n+ Tom Fawcett\\n- Usama Fayyad\\n+ Aaron Feigelson\\n+ Nicolas Fiechter\\n+ David Finton\\n+ John Fischer\\n+ Paul Fischer\\n+ Seth Flanders\\n+ Lance Fortnow\\n- Ameur Foued\\n+ Judy A. Franklin\\n+ Yoav Freund\\n+ Johannes Furnkranz\\n+ Merrick L. Furst\\n+ Jean Gabriel Ganascia\\n+ William Gasarch\\n+ Ricard Gavalda\\n+ Melinda T. Gervasio\\n+ Yolanda Gil\\n+ David Gillman\\n- Attilio Giordana\\n+ Kate Goelz\\n+ Paul W. Goldberg\\n+ Sally Goldman\\n+ Diana Gordon\\n+ Geoffrey Gordon\\n+ Jonathan Gratch\\n+ Leslie Grate\\n+ William A. Greene\\n+ Russell Greiner\\n+ Marko Grobelnik\\n+ Tal Grossman\\n+ Margo Guertin\\n+ Tom Hancock\\n+ Earl S. Harris Jr.\\n+ David Haussler\\n+ Matthias Heger\\n+ Lisa Hellerstein\\n+ David Helmbold\\n+ Daniel Hennessy\\n+ Haym Hirsh\\n+ Jonathan Hodgson\\n+ Robert C. Holte\\n+ Jiarong Hong\\n- Chun-Nan Hsu\\n+ Kazushi Ikeda\\n+ Masayuki Inaba\\n- Drago Indjic\\n+ Nitin Indurkhya\\n+ Jeff Jackson\\n+ Sanjay Jain\\n+ Wolfgang Janko\\n- Klaus P. Jantke\\n+ Nathalie Japkowicz\\n+ George H. John\\n+ Randolph Jones\\n+ Michael I. Jordan\\n+ Leslie Pack Kaelbling\\n+ Bala Kalyanasundaram\\n- Thomas E. Kammeyer\\n- Grigoris Karakoulas\\n+ Michael Kearns\\n+ Neela Khan\\n+ Roni Khardon\\n+ Dennis F. Kibler\\n+ Jorg-Uwe Kietz\\n- Efim Kinber\\n- Jyrki Kivinen\\n- Emanuel Knill\\n- Craig Knoblock\\n+ Ron Kohavi\\n+ Pascal Koiran\\n+ Moshe Koppel\\n+ Daniel Kortenkamp\\n+ Matevz Kovacic\\n- Stefan Kramer\\n+ Martinch Krikis\\n+ Martin Kummer\\n- Eyal Kushilevitz\\n- Stephen Kwek\\n+ Wai Lam\\n+ Ken Lang\\n- Steffen Lange\\n+ Pat Langley\\n+ Mary Soon Lee\\n+ Wee Sun Lee\\n+ Moshe Leshno\\n+ Long-Ji Lin\\n- Charles X. Ling\\n+ Michael Littman\\n+ David Loewenstern\\n- Phil Long\\n+ Wolfgang Maass\\n- Bruce A. MacDonald\\n+ Rich Maclin\\n- Sridhar Mahadevan\\n- J. Jeffrey Mahoney\\n+ Yishay Mansour\\n+ Mario Marchand\\n- Shaul Markovitch\\n- Oded Maron\\n+ Maja Mataric\\n+ David Mathias\\n+ Toshiyasu Matsushima\\n- Stan Matwin\\n- Eddy Mayoraz\\n- R. Andrew McCallum\\n- L. Thorne McCarty\\n- Alexander M. Meystel\\n+ Michael A. meystel\\n- Steven Minton\\n+ Nina Mishra\\n+ Tom M. Mitchell\\n+ Dunja Mladenic\\n+ David Montgomery\\n- Andrew W. Moore\\n+ Johanne Morin\\n+ Hiroshi Motoda\\n- Stephen Muggleton\\n+ Patrick M. Murphy\\n- Sreerama K. Murthy\\n+ Filippo Neri\\n- Craig Nevill-Manning\\n- Andrew Y. Ng\\n+ Nikolay Nikolaev\\n- Steven W. Norton\\n+ Joseph O'Sullivan\\n+ Dan Oblinger\\n+ Jong-Hoon Oh\\n- Arlindo Oliveira\\n+ David W. Opitz\\n+ Sandra Panizza\\n+ Barak A. Pearlmutter\\n- Ed Pednault\\n+ Jing Peng\\n+ Fernando Pereira\\n+ Aurora Perez\\n+ Bernhard Pfahringer\\n+ David Pierce\\n- Krishnan Pillaipakkamnatt\\n+ Roberto Piola\\n+ Leonard Pitt\\n+ Lorien Y. Pratt\\n- Armand Prieditis\\n+ Foster J. Provost\\n- J. R. Quinlan\\n+ John Rachlin\\n+ Vijay Raghavan\\n- R. Bharat Rao\\n- Priscilla Rasmussen\\n+ Joel Ratsaby\\n+ Michael Redmond\\n+ Patricia J. Riddle\\n+ Lance Riley\\n+ Ronald L. Rivest\\n+ Huw Roberts\\n+ Dana Ron\\n+ Robert S. Roos\\n+ Justinian Rosca\\n+ John R. Rose\\n+ Dan Roth\\n+ James S. Royer\\n+ Ronitt Rubinfeld\\n- Stuart Russell\\n+ Lorenza Saitta\\n+ Yoshifumi Sakai\\n+ William Sakas\\n+ Marcos Salganicoff\\n- Steven Salzberg\\n- Claude Sammut\\n+ Cullen Schaffer\\n+ Robert Schapire\\n+ Mark Schwabacher\\n+ Michele Sebag\\n+ Gary M. Selzer\\n+ Sebastian Seung\\n- Arun Sharma\\n+ Jude Shavlik\\n+ Daniel L. Silver\\n- Glenn Silverstein\\n+ Yoram Singer\\n+ Mona Singh\\n+ Satinder Pal Singh\\n+ Kimmen Sjolander\\n+ David B. Skalak\\n+ Sean Slattery\\n+ Robert Sloan\\n+ Donna Slonim\\n+ Carl H. Smith\\n+ Sonya Snedecor\\n+ Von-Wun Soo\\n- Thomas G. Spalthoff\\n+ Mark Staley\\n- Frank Stephan\\n+ Mandayam T. Suraj\\n+ Richard S. Sutton\\n+ Joe Suzuki\\n- Prasad Tadepalli\\n+ Hiroshi Tanaka\\n- Irina Tchoumatchenko\\n- Brian Tester\\n- Chen K. Tham\\n+ Tatsuo Unemi\\n- Lyle H. Ungar\\n+ Paul Utgoff\\n+ Karsten Verbeurgt\\n+ Paul Vitanyi\\n+ Xuemei Wang\\n+ Manfred Warmuth\\n+ Gary Weiss\\n- Sholom Weiss\\n- Thomas Wengerek\\n- Bradley L. Whitehall\\n- Alma Whitten\\n+ Robert Williamson\\n+ Janusz Wnek\\n+ Kenji Yamanishi\\n+ Takefumi Yamazaki\\n+ Holly Yanco\\n+ John M. Zelle\\n- Thomas Zeugmann\\n+ Jean-Daniel Zucker\\n+ Darko Zupanic\\n\""
      ]
     },
     "execution_count": 3,
     "metadata": {},
     "output_type": "execute_result"
    }
   ],
   "source": [
    "corpus"
   ]
  },
  {
   "cell_type": "code",
   "execution_count": 5,
   "id": "58357eff-727b-455d-842e-afd4af4f6a71",
   "metadata": {},
   "outputs": [],
   "source": [
    "# need to be clean the badges data\n",
    "docs = corpus.split('\\n')"
   ]
  },
  {
   "cell_type": "code",
   "execution_count": 6,
   "id": "79edb35c-0cb0-4687-8130-d8f40352443d",
   "metadata": {},
   "outputs": [
    {
     "data": {
      "text/plain": [
       "['',\n",
       " '+ Naoki Abe',\n",
       " '- Myriam Abramson',\n",
       " '+ David W. Aha',\n",
       " '+ Kamal M. Ali',\n",
       " '- Eric Allender',\n",
       " '+ Dana Angluin',\n",
       " '- Chidanand Apte',\n",
       " '+ Minoru Asada',\n",
       " '+ Lars Asker',\n",
       " '+ Javed Aslam',\n",
       " '+ Haralabos Athanassiou',\n",
       " '+ Jose L. Balcazar',\n",
       " '+ Timothy P. Barber',\n",
       " '+ Michael W. Barley',\n",
       " '- Cristina Baroglio',\n",
       " '+ Peter Bartlett',\n",
       " '- Eric Baum',\n",
       " '+ Welton Becket',\n",
       " '- Shai Ben-David',\n",
       " '+ George Berg',\n",
       " '+ Neil Berkman',\n",
       " '+ Malini Bhandaru',\n",
       " '+ Bir Bhanu',\n",
       " '+ Reinhard Blasig',\n",
       " '- Avrim Blum',\n",
       " '- Anselm Blumer',\n",
       " '+ Justin Boyan',\n",
       " '+ Carla E. Brodley',\n",
       " '+ Nader Bshouty',\n",
       " '- Wray Buntine',\n",
       " '- Andrey Burago',\n",
       " '+ Tom Bylander',\n",
       " '+ Bill Byrne',\n",
       " '- Claire Cardie',\n",
       " '+ Richard A. Caruana',\n",
       " '+ John Case',\n",
       " '+ Jason Catlett',\n",
       " '+ Nicolo Cesa-Bianchi',\n",
       " '- Philip Chan',\n",
       " '+ Mark Changizi',\n",
       " '+ Pang-Chieh Chen',\n",
       " '- Zhixiang Chen',\n",
       " '+ Wan P. Chiang',\n",
       " '- Steve A. Chien',\n",
       " '+ Jeffery Clouse',\n",
       " '+ William Cohen',\n",
       " '+ David Cohn',\n",
       " '- Clare Bates Congdon',\n",
       " '- Antoine Cornuejols',\n",
       " '+ Mark W. Craven',\n",
       " '+ Robert P. Daley',\n",
       " '+ Lindley Darden',\n",
       " '- Chris Darken',\n",
       " '- Bhaskar Dasgupta',\n",
       " '- Brian D. Davidson',\n",
       " '+ Michael de la Maza',\n",
       " '- Olivier De Vel',\n",
       " '- Scott E. Decatur',\n",
       " '+ Gerald F. DeJong',\n",
       " '+ Kan Deng',\n",
       " '- Thomas G. Dietterich',\n",
       " '+ Michael J. Donahue',\n",
       " '+ George A. Drastal',\n",
       " '+ Harris Drucker',\n",
       " '- Chris Drummond',\n",
       " '+ Hal Duncan',\n",
       " '- Thomas Ellman',\n",
       " '+ Tapio Elomaa',\n",
       " '+ Susan L. Epstein',\n",
       " '+ Bob Evans',\n",
       " '- Claudio Facchinetti',\n",
       " '+ Tom Fawcett',\n",
       " '- Usama Fayyad',\n",
       " '+ Aaron Feigelson',\n",
       " '+ Nicolas Fiechter',\n",
       " '+ David Finton',\n",
       " '+ John Fischer',\n",
       " '+ Paul Fischer',\n",
       " '+ Seth Flanders',\n",
       " '+ Lance Fortnow',\n",
       " '- Ameur Foued',\n",
       " '+ Judy A. Franklin',\n",
       " '+ Yoav Freund',\n",
       " '+ Johannes Furnkranz',\n",
       " '+ Merrick L. Furst',\n",
       " '+ Jean Gabriel Ganascia',\n",
       " '+ William Gasarch',\n",
       " '+ Ricard Gavalda',\n",
       " '+ Melinda T. Gervasio',\n",
       " '+ Yolanda Gil',\n",
       " '+ David Gillman',\n",
       " '- Attilio Giordana',\n",
       " '+ Kate Goelz',\n",
       " '+ Paul W. Goldberg',\n",
       " '+ Sally Goldman',\n",
       " '+ Diana Gordon',\n",
       " '+ Geoffrey Gordon',\n",
       " '+ Jonathan Gratch',\n",
       " '+ Leslie Grate',\n",
       " '+ William A. Greene',\n",
       " '+ Russell Greiner',\n",
       " '+ Marko Grobelnik',\n",
       " '+ Tal Grossman',\n",
       " '+ Margo Guertin',\n",
       " '+ Tom Hancock',\n",
       " '+ Earl S. Harris Jr.',\n",
       " '+ David Haussler',\n",
       " '+ Matthias Heger',\n",
       " '+ Lisa Hellerstein',\n",
       " '+ David Helmbold',\n",
       " '+ Daniel Hennessy',\n",
       " '+ Haym Hirsh',\n",
       " '+ Jonathan Hodgson',\n",
       " '+ Robert C. Holte',\n",
       " '+ Jiarong Hong',\n",
       " '- Chun-Nan Hsu',\n",
       " '+ Kazushi Ikeda',\n",
       " '+ Masayuki Inaba',\n",
       " '- Drago Indjic',\n",
       " '+ Nitin Indurkhya',\n",
       " '+ Jeff Jackson',\n",
       " '+ Sanjay Jain',\n",
       " '+ Wolfgang Janko',\n",
       " '- Klaus P. Jantke',\n",
       " '+ Nathalie Japkowicz',\n",
       " '+ George H. John',\n",
       " '+ Randolph Jones',\n",
       " '+ Michael I. Jordan',\n",
       " '+ Leslie Pack Kaelbling',\n",
       " '+ Bala Kalyanasundaram',\n",
       " '- Thomas E. Kammeyer',\n",
       " '- Grigoris Karakoulas',\n",
       " '+ Michael Kearns',\n",
       " '+ Neela Khan',\n",
       " '+ Roni Khardon',\n",
       " '+ Dennis F. Kibler',\n",
       " '+ Jorg-Uwe Kietz',\n",
       " '- Efim Kinber',\n",
       " '- Jyrki Kivinen',\n",
       " '- Emanuel Knill',\n",
       " '- Craig Knoblock',\n",
       " '+ Ron Kohavi',\n",
       " '+ Pascal Koiran',\n",
       " '+ Moshe Koppel',\n",
       " '+ Daniel Kortenkamp',\n",
       " '+ Matevz Kovacic',\n",
       " '- Stefan Kramer',\n",
       " '+ Martinch Krikis',\n",
       " '+ Martin Kummer',\n",
       " '- Eyal Kushilevitz',\n",
       " '- Stephen Kwek',\n",
       " '+ Wai Lam',\n",
       " '+ Ken Lang',\n",
       " '- Steffen Lange',\n",
       " '+ Pat Langley',\n",
       " '+ Mary Soon Lee',\n",
       " '+ Wee Sun Lee',\n",
       " '+ Moshe Leshno',\n",
       " '+ Long-Ji Lin',\n",
       " '- Charles X. Ling',\n",
       " '+ Michael Littman',\n",
       " '+ David Loewenstern',\n",
       " '- Phil Long',\n",
       " '+ Wolfgang Maass',\n",
       " '- Bruce A. MacDonald',\n",
       " '+ Rich Maclin',\n",
       " '- Sridhar Mahadevan',\n",
       " '- J. Jeffrey Mahoney',\n",
       " '+ Yishay Mansour',\n",
       " '+ Mario Marchand',\n",
       " '- Shaul Markovitch',\n",
       " '- Oded Maron',\n",
       " '+ Maja Mataric',\n",
       " '+ David Mathias',\n",
       " '+ Toshiyasu Matsushima',\n",
       " '- Stan Matwin',\n",
       " '- Eddy Mayoraz',\n",
       " '- R. Andrew McCallum',\n",
       " '- L. Thorne McCarty',\n",
       " '- Alexander M. Meystel',\n",
       " '+ Michael A. meystel',\n",
       " '- Steven Minton',\n",
       " '+ Nina Mishra',\n",
       " '+ Tom M. Mitchell',\n",
       " '+ Dunja Mladenic',\n",
       " '+ David Montgomery',\n",
       " '- Andrew W. Moore',\n",
       " '+ Johanne Morin',\n",
       " '+ Hiroshi Motoda',\n",
       " '- Stephen Muggleton',\n",
       " '+ Patrick M. Murphy',\n",
       " '- Sreerama K. Murthy',\n",
       " '+ Filippo Neri',\n",
       " '- Craig Nevill-Manning',\n",
       " '- Andrew Y. Ng',\n",
       " '+ Nikolay Nikolaev',\n",
       " '- Steven W. Norton',\n",
       " \"+ Joseph O'Sullivan\",\n",
       " '+ Dan Oblinger',\n",
       " '+ Jong-Hoon Oh',\n",
       " '- Arlindo Oliveira',\n",
       " '+ David W. Opitz',\n",
       " '+ Sandra Panizza',\n",
       " '+ Barak A. Pearlmutter',\n",
       " '- Ed Pednault',\n",
       " '+ Jing Peng',\n",
       " '+ Fernando Pereira',\n",
       " '+ Aurora Perez',\n",
       " '+ Bernhard Pfahringer',\n",
       " '+ David Pierce',\n",
       " '- Krishnan Pillaipakkamnatt',\n",
       " '+ Roberto Piola',\n",
       " '+ Leonard Pitt',\n",
       " '+ Lorien Y. Pratt',\n",
       " '- Armand Prieditis',\n",
       " '+ Foster J. Provost',\n",
       " '- J. R. Quinlan',\n",
       " '+ John Rachlin',\n",
       " '+ Vijay Raghavan',\n",
       " '- R. Bharat Rao',\n",
       " '- Priscilla Rasmussen',\n",
       " '+ Joel Ratsaby',\n",
       " '+ Michael Redmond',\n",
       " '+ Patricia J. Riddle',\n",
       " '+ Lance Riley',\n",
       " '+ Ronald L. Rivest',\n",
       " '+ Huw Roberts',\n",
       " '+ Dana Ron',\n",
       " '+ Robert S. Roos',\n",
       " '+ Justinian Rosca',\n",
       " '+ John R. Rose',\n",
       " '+ Dan Roth',\n",
       " '+ James S. Royer',\n",
       " '+ Ronitt Rubinfeld',\n",
       " '- Stuart Russell',\n",
       " '+ Lorenza Saitta',\n",
       " '+ Yoshifumi Sakai',\n",
       " '+ William Sakas',\n",
       " '+ Marcos Salganicoff',\n",
       " '- Steven Salzberg',\n",
       " '- Claude Sammut',\n",
       " '+ Cullen Schaffer',\n",
       " '+ Robert Schapire',\n",
       " '+ Mark Schwabacher',\n",
       " '+ Michele Sebag',\n",
       " '+ Gary M. Selzer',\n",
       " '+ Sebastian Seung',\n",
       " '- Arun Sharma',\n",
       " '+ Jude Shavlik',\n",
       " '+ Daniel L. Silver',\n",
       " '- Glenn Silverstein',\n",
       " '+ Yoram Singer',\n",
       " '+ Mona Singh',\n",
       " '+ Satinder Pal Singh',\n",
       " '+ Kimmen Sjolander',\n",
       " '+ David B. Skalak',\n",
       " '+ Sean Slattery',\n",
       " '+ Robert Sloan',\n",
       " '+ Donna Slonim',\n",
       " '+ Carl H. Smith',\n",
       " '+ Sonya Snedecor',\n",
       " '+ Von-Wun Soo',\n",
       " '- Thomas G. Spalthoff',\n",
       " '+ Mark Staley',\n",
       " '- Frank Stephan',\n",
       " '+ Mandayam T. Suraj',\n",
       " '+ Richard S. Sutton',\n",
       " '+ Joe Suzuki',\n",
       " '- Prasad Tadepalli',\n",
       " '+ Hiroshi Tanaka',\n",
       " '- Irina Tchoumatchenko',\n",
       " '- Brian Tester',\n",
       " '- Chen K. Tham',\n",
       " '+ Tatsuo Unemi',\n",
       " '- Lyle H. Ungar',\n",
       " '+ Paul Utgoff',\n",
       " '+ Karsten Verbeurgt',\n",
       " '+ Paul Vitanyi',\n",
       " '+ Xuemei Wang',\n",
       " '+ Manfred Warmuth',\n",
       " '+ Gary Weiss',\n",
       " '- Sholom Weiss',\n",
       " '- Thomas Wengerek',\n",
       " '- Bradley L. Whitehall',\n",
       " '- Alma Whitten',\n",
       " '+ Robert Williamson',\n",
       " '+ Janusz Wnek',\n",
       " '+ Kenji Yamanishi',\n",
       " '+ Takefumi Yamazaki',\n",
       " '+ Holly Yanco',\n",
       " '+ John M. Zelle',\n",
       " '- Thomas Zeugmann',\n",
       " '+ Jean-Daniel Zucker',\n",
       " '+ Darko Zupanic',\n",
       " '']"
      ]
     },
     "execution_count": 6,
     "metadata": {},
     "output_type": "execute_result"
    }
   ],
   "source": [
    "docs"
   ]
  },
  {
   "cell_type": "code",
   "execution_count": 7,
   "id": "5b9b5e9a-f66a-42b6-9674-8a80008b3bd5",
   "metadata": {},
   "outputs": [],
   "source": [
    "# we can partition the data in such a way labels and data\n",
    "X = []\n",
    "Y = []"
   ]
  },
  {
   "cell_type": "code",
   "execution_count": 14,
   "id": "a81121cf-f404-4397-8121-5fe178f0fc22",
   "metadata": {},
   "outputs": [],
   "source": [
    "for doc in docs:\n",
    "    label = doc[:1]\n",
    "    i = doc[2:]\n",
    "    X.append(i)\n",
    "    Y.append(label)\n",
    "    "
   ]
  },
  {
   "cell_type": "code",
   "execution_count": 25,
   "id": "2e318042-6611-49f7-9487-36251c568560",
   "metadata": {},
   "outputs": [],
   "source": [
    "from sklearn.feature_extraction.text import CountVectorizer"
   ]
  },
  {
   "cell_type": "code",
   "execution_count": 26,
   "id": "00502433-8749-49aa-a764-b8f937bb70a1",
   "metadata": {},
   "outputs": [],
   "source": [
    "obj_vec = CountVectorizer()"
   ]
  },
  {
   "cell_type": "code",
   "execution_count": 31,
   "id": "2b8fed6b-8f60-4648-997c-c2d3f07461e4",
   "metadata": {},
   "outputs": [],
   "source": [
    "structure_Data = obj_vec.fit_transform(X)"
   ]
  },
  {
   "cell_type": "code",
   "execution_count": 32,
   "id": "e43e6dcf-bf84-42ee-832d-94c09977fb8d",
   "metadata": {},
   "outputs": [
    {
     "data": {
      "text/plain": [
       "<296x523 sparse matrix of type '<class 'numpy.int64'>'\n",
       "\twith 607 stored elements in Compressed Sparse Row format>"
      ]
     },
     "execution_count": 32,
     "metadata": {},
     "output_type": "execute_result"
    }
   ],
   "source": [
    "structure_Data"
   ]
  },
  {
   "cell_type": "code",
   "execution_count": 36,
   "id": "ade1801a-25e0-4444-be9b-6e462eedc3a5",
   "metadata": {},
   "outputs": [],
   "source": [
    "from sklearn.tree import DecisionTreeClassifier"
   ]
  },
  {
   "cell_type": "code",
   "execution_count": 42,
   "id": "16ad0bf0-4bcb-418a-ab4a-7314ec2894cb",
   "metadata": {},
   "outputs": [],
   "source": [
    "dtc_obj = DecisionTreeClassifier(max_depth = 2)"
   ]
  },
  {
   "cell_type": "code",
   "execution_count": 43,
   "id": "febdd646-96c7-4b14-9671-013eae3797d9",
   "metadata": {},
   "outputs": [
    {
     "data": {
      "text/plain": [
       "DecisionTreeClassifier(max_depth=2)"
      ]
     },
     "execution_count": 43,
     "metadata": {},
     "output_type": "execute_result"
    }
   ],
   "source": [
    "dtc_obj.fit(structure_Data[:282], Y[:282])"
   ]
  },
  {
   "cell_type": "code",
   "execution_count": 44,
   "id": "9ceb854e-ff6a-4543-930e-8972ac3c43e0",
   "metadata": {},
   "outputs": [
    {
     "data": {
      "text/plain": [
       "array(['+', '+', '+', '+', '+', '+', '+', '-', '+', '+', '+'], dtype='<U1')"
      ]
     },
     "execution_count": 44,
     "metadata": {},
     "output_type": "execute_result"
    }
   ],
   "source": [
    "dtc_obj.predict(structure_Data[285:], Y[285:])"
   ]
  },
  {
   "cell_type": "code",
   "execution_count": null,
   "id": "b88b98f4-d46d-4c45-90f4-9d7e8760122c",
   "metadata": {},
   "outputs": [],
   "source": []
  }
 ],
 "metadata": {
  "kernelspec": {
   "display_name": "Python 3 (ipykernel)",
   "language": "python",
   "name": "python3"
  },
  "language_info": {
   "codemirror_mode": {
    "name": "ipython",
    "version": 3
   },
   "file_extension": ".py",
   "mimetype": "text/x-python",
   "name": "python",
   "nbconvert_exporter": "python",
   "pygments_lexer": "ipython3",
   "version": "3.9.7"
  }
 },
 "nbformat": 4,
 "nbformat_minor": 5
}
