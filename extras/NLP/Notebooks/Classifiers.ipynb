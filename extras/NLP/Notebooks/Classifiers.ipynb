{
 "cells": [
  {
   "cell_type": "code",
   "execution_count": 57,
   "id": "b12ceb0e-2b4b-4abd-987d-cfaeb5f7d430",
   "metadata": {},
   "outputs": [],
   "source": [
    "# first import the datasets \n",
    "corpus = open('data1.txt').read()\n",
    "docs = corpus "
   ]
  },
  {
   "cell_type": "code",
   "execution_count": 58,
   "id": "0ca0aa42-1d81-4bc4-9319-38955f3c1e4f",
   "metadata": {},
   "outputs": [
    {
     "data": {
      "text/plain": [
       "'milk bread bread bread: grocery\\nbread milk milk bottle :grocery\\ntin bread milk bread milk:grocery\\ncat mew mew dogs bark bark:pets\\ndog bark bark cat mew mew :pets\\ncat mew dog bark cat mew :pets'"
      ]
     },
     "execution_count": 58,
     "metadata": {},
     "output_type": "execute_result"
    }
   ],
   "source": [
    "docs"
   ]
  },
  {
   "cell_type": "code",
   "execution_count": 59,
   "id": "5924bac4-ffc4-4cd9-af30-bc18e201b522",
   "metadata": {},
   "outputs": [],
   "source": [
    "docs= docs.split('\\n')"
   ]
  },
  {
   "cell_type": "code",
   "execution_count": 60,
   "id": "fe066c29-f8b0-447c-89bd-0b626485ff1b",
   "metadata": {},
   "outputs": [
    {
     "data": {
      "text/plain": [
       "['milk bread bread bread: grocery',\n",
       " 'bread milk milk bottle :grocery',\n",
       " 'tin bread milk bread milk:grocery',\n",
       " 'cat mew mew dogs bark bark:pets',\n",
       " 'dog bark bark cat mew mew :pets',\n",
       " 'cat mew dog bark cat mew :pets']"
      ]
     },
     "execution_count": 60,
     "metadata": {},
     "output_type": "execute_result"
    }
   ],
   "source": [
    "docs"
   ]
  },
  {
   "cell_type": "code",
   "execution_count": 61,
   "id": "d89d4985-5b31-451b-8a10-cdcdf4d5282f",
   "metadata": {},
   "outputs": [],
   "source": [
    "# Split the dataset into labels because in above the dataset labels are sperated by the : \n",
    "y = []\n",
    "x = []  # features\n",
    "for doc in docs:\n",
    "    i,label = doc.split(':')\n",
    "    x.append(i.strip())\n",
    "    y.append(label.strip())  "
   ]
  },
  {
   "cell_type": "code",
   "execution_count": 62,
   "id": "63bfac64-d5ac-4ce7-af72-13ae7e8796f4",
   "metadata": {},
   "outputs": [
    {
     "data": {
      "text/plain": [
       "['milk bread bread bread',\n",
       " 'bread milk milk bottle',\n",
       " 'tin bread milk bread milk',\n",
       " 'cat mew mew dogs bark bark',\n",
       " 'dog bark bark cat mew mew',\n",
       " 'cat mew dog bark cat mew']"
      ]
     },
     "execution_count": 62,
     "metadata": {},
     "output_type": "execute_result"
    }
   ],
   "source": [
    "x "
   ]
  },
  {
   "cell_type": "code",
   "execution_count": 63,
   "id": "9dad350e-c009-4227-886a-cd88e7cf7c2f",
   "metadata": {},
   "outputs": [
    {
     "data": {
      "text/plain": [
       "['grocery', 'grocery', 'grocery', 'pets', 'pets', 'pets']"
      ]
     },
     "execution_count": 63,
     "metadata": {},
     "output_type": "execute_result"
    }
   ],
   "source": [
    "y # split the labels "
   ]
  },
  {
   "cell_type": "code",
   "execution_count": 64,
   "id": "9fc2977a-d63e-43b6-9982-67e62dbf0308",
   "metadata": {},
   "outputs": [],
   "source": [
    "from sklearn.feature_extraction.text import CountVectorizer"
   ]
  },
  {
   "cell_type": "code",
   "execution_count": 65,
   "id": "38c40e93-5313-4471-b9c4-f23c59d74277",
   "metadata": {},
   "outputs": [],
   "source": [
    "obj = CountVectorizer() # here we set the paramaters for the usecase"
   ]
  },
  {
   "cell_type": "code",
   "execution_count": 66,
   "id": "42b88215-ffe8-4603-a7df-fe13e0aad610",
   "metadata": {},
   "outputs": [],
   "source": [
    "matrix_x = obj.fit_transform(x)"
   ]
  },
  {
   "cell_type": "code",
   "execution_count": 67,
   "id": "663f4155-3967-49fa-9723-4fa612bf855d",
   "metadata": {},
   "outputs": [],
   "source": [
    "# matrix_x"
   ]
  },
  {
   "cell_type": "code",
   "execution_count": 68,
   "id": "aed66472-adf9-40a5-8e26-0780dc3bc726",
   "metadata": {},
   "outputs": [],
   "source": [
    "# matrix_x is 6 X 9 matrix to visualize more \n",
    "# matrix_x.toarray() \n"
   ]
  },
  {
   "cell_type": "markdown",
   "id": "1a729135-327a-4fbf-a980-f1fd7d9f9e14",
   "metadata": {},
   "source": [
    "count the frequency of the word by word thats we structure the data for the usecase  "
   ]
  },
  {
   "cell_type": "code",
   "execution_count": 69,
   "id": "0b8d11a4-e7e8-4420-bef3-f8f8d4135a0b",
   "metadata": {},
   "outputs": [],
   "source": [
    "# obj.vocabulary_"
   ]
  },
  {
   "cell_type": "markdown",
   "id": "62722a55-e717-4865-83ca-f88dc2d21c1b",
   "metadata": {},
   "source": [
    "# KNeighborsClassifier\n",
    "https://scikit-learn.org/stable/modules/generated/sklearn.neighbors.KNeighborsClassifier.html"
   ]
  },
  {
   "cell_type": "code",
   "execution_count": 80,
   "id": "58dc3915-37a2-4d47-9789-e6eba61e02f2",
   "metadata": {},
   "outputs": [],
   "source": [
    "from sklearn.neighbors import KNeighborsClassifier"
   ]
  },
  {
   "cell_type": "code",
   "execution_count": 112,
   "id": "c2ebbf72-8ce7-403e-bb86-72740f9888ce",
   "metadata": {},
   "outputs": [],
   "source": [
    "KN_C = KNeighborsClassifier(n_neighbors = 3)"
   ]
  },
  {
   "cell_type": "code",
   "execution_count": 113,
   "id": "6e674f96-af08-4949-918e-8dd8de0c6540",
   "metadata": {},
   "outputs": [
    {
     "data": {
      "text/plain": [
       "KNeighborsClassifier(n_neighbors=3)"
      ]
     },
     "execution_count": 113,
     "metadata": {},
     "output_type": "execute_result"
    }
   ],
   "source": [
    "KN_C.fit(matrix_x[:5],y[:5]) #Fit the k-nearest neighbors classifier from the training dataset."
   ]
  },
  {
   "cell_type": "code",
   "execution_count": 114,
   "id": "61f0ba06-cf70-4c7f-8b8c-c3ccb404d537",
   "metadata": {},
   "outputs": [
    {
     "data": {
      "text/plain": [
       "array(['pets'], dtype='<U7')"
      ]
     },
     "execution_count": 114,
     "metadata": {},
     "output_type": "execute_result"
    }
   ],
   "source": [
    "KN_C.predict(matrix_x[5])"
   ]
  },
  {
   "cell_type": "code",
   "execution_count": 110,
   "id": "882a38f7-ba65-485d-8109-b2a10253e2d7",
   "metadata": {},
   "outputs": [],
   "source": [
    "# KN_C.predict_proba(matrix_x[5])  when the n_neighbours = 1 "
   ]
  },
  {
   "cell_type": "code",
   "execution_count": 111,
   "id": "1094ba20-a5da-41de-929c-196dfb85ee0d",
   "metadata": {},
   "outputs": [
    {
     "data": {
      "text/plain": [
       "array([[0., 1.]])"
      ]
     },
     "execution_count": 111,
     "metadata": {},
     "output_type": "execute_result"
    }
   ],
   "source": [
    "KN_C.predict_proba(matrix_x[5])"
   ]
  },
  {
   "cell_type": "code",
   "execution_count": 115,
   "id": "e988c0cc-433d-41a2-a595-0a8ce1e95a4a",
   "metadata": {},
   "outputs": [
    {
     "data": {
      "text/plain": [
       "array([[0.33333333, 0.66666667]])"
      ]
     },
     "execution_count": 115,
     "metadata": {},
     "output_type": "execute_result"
    }
   ],
   "source": [
    "KN_C.predict_proba(matrix_x[5]) # _neighbours = 3"
   ]
  },
  {
   "cell_type": "markdown",
   "id": "bf9dd2b2-598f-4a62-8040-a7e6204e32be",
   "metadata": {},
   "source": [
    "# NaiveBayes Classifier\n",
    "https://scikit-learn.org/stable/modules/classes.html?highlight=naive #module-sklearn.naive_bayes"
   ]
  },
  {
   "cell_type": "code",
   "execution_count": 116,
   "id": "6ff3dac3-eb81-444e-b941-d42d519f838f",
   "metadata": {},
   "outputs": [],
   "source": [
    "from sklearn.naive_bayes import MultinomialNB"
   ]
  },
  {
   "cell_type": "code",
   "execution_count": 117,
   "id": "a0d16680-2614-4a4e-9779-1694912ea241",
   "metadata": {},
   "outputs": [],
   "source": [
    "naivebayes_obj = MultinomialNB() # discrete features (e.g., word counts for text classification)."
   ]
  },
  {
   "cell_type": "code",
   "execution_count": 118,
   "id": "430b2e80-b9ea-4f9a-84f5-86c75073e77e",
   "metadata": {},
   "outputs": [
    {
     "data": {
      "text/plain": [
       "MultinomialNB()"
      ]
     },
     "execution_count": 118,
     "metadata": {},
     "output_type": "execute_result"
    }
   ],
   "source": [
    "naivebayes_obj.fit(matrix_x[:5],y[:5])"
   ]
  },
  {
   "cell_type": "code",
   "execution_count": 119,
   "id": "0dccf58f-8fdc-4e25-8bfe-5c4bc916de59",
   "metadata": {},
   "outputs": [
    {
     "data": {
      "text/plain": [
       "array(['pets'], dtype='<U7')"
      ]
     },
     "execution_count": 119,
     "metadata": {},
     "output_type": "execute_result"
    }
   ],
   "source": [
    "naivebayes_obj.predict(matrix_x[5])"
   ]
  },
  {
   "cell_type": "code",
   "execution_count": 120,
   "id": "5a887bdd-05b1-4d48-889d-c3f3e68a507d",
   "metadata": {},
   "outputs": [
    {
     "data": {
      "text/plain": [
       "array([[5.04045179e-04, 9.99495955e-01]])"
      ]
     },
     "execution_count": 120,
     "metadata": {},
     "output_type": "execute_result"
    }
   ],
   "source": [
    "# naivebayes_obj.predict_proba(matrix_x[5])"
   ]
  },
  {
   "cell_type": "markdown",
   "id": "5012ad38-5b0a-4264-8282-5186a7cf6931",
   "metadata": {},
   "source": [
    "# Linear Classifier\n",
    "\n",
    "https://scikit-learn.org/stable/modules/classes.html?highlight=linear#module-sklearn.linear_model"
   ]
  },
  {
   "cell_type": "code",
   "execution_count": 121,
   "id": "0c66f252-3a7a-4a65-b463-67b877d97f8b",
   "metadata": {},
   "outputs": [],
   "source": [
    "from sklearn.linear_model impomatrix_x[5])rt SGDClassifier"
   ]
  },
  {
   "cell_type": "code",
   "execution_count": 122,
   "id": "6d424ece-94f9-466b-9eee-23ab60bd63d2",
   "metadata": {},
   "outputs": [],
   "source": [
    "lc_obj =SGDClassifier()"
   ]
  },
  {
   "cell_type": "code",
   "execution_count": 124,
   "id": "7b79fdee-11f3-4a3b-b095-c69390a1297c",
   "metadata": {},
   "outputs": [
    {
     "data": {
      "text/plain": [
       "SGDClassifier()"
      ]
     },
     "execution_count": 124,
     "metadata": {},
     "output_type": "execute_result"
    }
   ],
   "source": [
    "lc_obj.fit(matrix_x[:5], y[:5])"
   ]
  },
  {
   "cell_type": "code",
   "execution_count": 125,
   "id": "07a5d7a7-208e-4be2-85f8-0ec8d6f055e5",
   "metadata": {},
   "outputs": [
    {
     "data": {
      "text/plain": [
       "array(['pets'], dtype='<U7')"
      ]
     },
     "execution_count": 125,
     "metadata": {},
     "output_type": "execute_result"
    }
   ],
   "source": [
    "lc_obj.predict(matrix_x[5])"
   ]
  },
  {
   "cell_type": "markdown",
   "id": "67eb4ec2-fc32-4bfa-8819-cd17dc085834",
   "metadata": {},
   "source": [
    "# Decison Tree Classifier\n"
   ]
  },
  {
   "cell_type": "code",
   "execution_count": 126,
   "id": "9b19fb4c-c42e-4134-8979-7f97919b38de",
   "metadata": {},
   "outputs": [],
   "source": [
    "from sklearn.tree import DecisionTreeClassifier"
   ]
  },
  {
   "cell_type": "code",
   "execution_count": 127,
   "id": "d32aaeaf-d13c-4f49-b129-1f2296821598",
   "metadata": {},
   "outputs": [],
   "source": [
    "d_tree_obj = DecisionTreeClassifier()"
   ]
  },
  {
   "cell_type": "code",
   "execution_count": 128,
   "id": "8338f2fa-7fe0-4f18-b60c-857536f35d62",
   "metadata": {},
   "outputs": [
    {
     "data": {
      "text/plain": [
       "DecisionTreeClassifier()"
      ]
     },
     "execution_count": 128,
     "metadata": {},
     "output_type": "execute_result"
    }
   ],
   "source": [
    "d_tree_obj.fit(matrix_x[:5] , y[:5])"
   ]
  },
  {
   "cell_type": "code",
   "execution_count": 129,
   "id": "9f74d0d4-3b00-4179-8c17-3115455ec3aa",
   "metadata": {},
   "outputs": [
    {
     "data": {
      "text/plain": [
       "array(['pets'], dtype='<U7')"
      ]
     },
     "execution_count": 129,
     "metadata": {},
     "output_type": "execute_result"
    }
   ],
   "source": [
    "d_tree_obj.predict(matrix_x[5])"
   ]
  },
  {
   "cell_type": "code",
   "execution_count": 130,
   "id": "51e04ec7-c279-4763-b6e0-84d9bfa92699",
   "metadata": {},
   "outputs": [
    {
     "data": {
      "text/plain": [
       "array([[0., 1.]])"
      ]
     },
     "execution_count": 130,
     "metadata": {},
     "output_type": "execute_result"
    }
   ],
   "source": [
    "d_tree_obj.predict_proba(matrix_x[5])"
   ]
  },
  {
   "cell_type": "code",
   "execution_count": null,
   "id": "9803b4f0-1e38-4507-8374-07ac1c21eedc",
   "metadata": {},
   "outputs": [],
   "source": []
  }
 ],
 "metadata": {
  "kernelspec": {
   "display_name": "Python 3 (ipykernel)",
   "language": "python",
   "name": "python3"
  },
  "language_info": {
   "codemirror_mode": {
    "name": "ipython",
    "version": 3
   },
   "file_extension": ".py",
   "mimetype": "text/x-python",
   "name": "python",
   "nbconvert_exporter": "python",
   "pygments_lexer": "ipython3",
   "version": "3.9.7"
  }
 },
 "nbformat": 4,
 "nbformat_minor": 5
}
