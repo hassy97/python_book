{
 "cells": [
  {
   "cell_type": "markdown",
   "id": "d606c5ed-7f91-40e8-b678-373394ac8281",
   "metadata": {},
   "source": [
    "## How to Structure the docum by using the TF_IDF text representation \n"
   ]
  },
  {
   "cell_type": "code",
   "execution_count": 1,
   "id": "03ea3121-8bcc-43d8-83fb-8d7d74510b7b",
   "metadata": {
    "tags": []
   },
   "outputs": [],
   "source": [
    "\n",
    "# corpus \n",
    "corpus =['my name is hassy',\n",
    "        'my friend name is MAK',\n",
    "        'And he is my best friend',\n",
    "        'I have a friend']"
   ]
  },
  {
   "cell_type": "code",
   "execution_count": 2,
   "id": "3dfbcaf7-e627-4144-93a4-2b3984a7c56b",
   "metadata": {},
   "outputs": [],
   "source": [
    "from sklearn.feature_extraction.text import TfidfVectorizer"
   ]
  },
  {
   "cell_type": "code",
   "execution_count": 3,
   "id": "349596fd-40c4-49fb-9078-63ad85014027",
   "metadata": {},
   "outputs": [],
   "source": [
    "# make an object for the CountVectorizer\n",
    "vec = TfidfVectorizer()"
   ]
  },
  {
   "cell_type": "code",
   "execution_count": 4,
   "id": "ba481e6d-f6fc-41bb-84d7-df0473289829",
   "metadata": {},
   "outputs": [],
   "source": [
    "# setting a parametres for the other usecases\n",
    "\n",
    "vec = TfidfVectorizer(min_df = 1, max_df = 2 , max_features = 8 ,ngram_range = (3,3))    # ngram is a N-token sequencec of words now we're intrested in  trigram "
   ]
  },
  {
   "cell_type": "code",
   "execution_count": 5,
   "id": "74e06eaf-c1b8-4581-9b1b-624ee549ffce",
   "metadata": {},
   "outputs": [],
   "source": [
    "# for structuring the text data we use fit_tranform ()\n",
    "Structure_data = vec.fit_transform(corpus)"
   ]
  },
  {
   "cell_type": "code",
   "execution_count": 6,
   "id": "05d0f487-a944-4a88-8f89-6b3406c7fc0f",
   "metadata": {},
   "outputs": [
    {
     "data": {
      "text/plain": [
       "<4x8 sparse matrix of type '<class 'numpy.float64'>'\n",
       "\twith 8 stored elements in Compressed Sparse Row format>"
      ]
     },
     "execution_count": 6,
     "metadata": {},
     "output_type": "execute_result"
    }
   ],
   "source": [
    "Structure_data"
   ]
  },
  {
   "cell_type": "code",
   "execution_count": 7,
   "id": "e406faad-7ed9-47a3-9777-18985aa9cb95",
   "metadata": {},
   "outputs": [
    {
     "data": {
      "text/plain": [
       "array([[0.        , 0.        , 0.        , 0.        , 0.        ,\n",
       "        0.        , 0.70710678, 0.70710678],\n",
       "       [0.        , 0.70710678, 0.        , 0.        , 0.        ,\n",
       "        0.70710678, 0.        , 0.        ],\n",
       "       [0.5       , 0.        , 0.5       , 0.5       , 0.5       ,\n",
       "        0.        , 0.        , 0.        ],\n",
       "       [0.        , 0.        , 0.        , 0.        , 0.        ,\n",
       "        0.        , 0.        , 0.        ]])"
      ]
     },
     "execution_count": 7,
     "metadata": {},
     "output_type": "execute_result"
    }
   ],
   "source": [
    "import numpy as np\n",
    "\n",
    "# convert the text data  into the frequency based representation for future use in ml predictions\n",
    "Structure_data.toarray()"
   ]
  },
  {
   "cell_type": "code",
   "execution_count": 8,
   "id": "85492a15-681a-4c25-83a8-88f462294bed",
   "metadata": {},
   "outputs": [
    {
     "data": {
      "text/plain": [
       "['and he is',\n",
       " 'friend name is',\n",
       " 'he is my',\n",
       " 'is my best',\n",
       " 'my best friend',\n",
       " 'my friend name',\n",
       " 'my name is',\n",
       " 'name is hassy']"
      ]
     },
     "execution_count": 8,
     "metadata": {},
     "output_type": "execute_result"
    }
   ],
   "source": [
    "# get the features unique words  from the corpus \n",
    "vec.get_feature_names()"
   ]
  },
  {
   "cell_type": "code",
   "execution_count": 9,
   "id": "6defb392-14b9-4743-89e8-927a8a8e336d",
   "metadata": {},
   "outputs": [
    {
     "data": {
      "text/plain": [
       "8"
      ]
     },
     "execution_count": 9,
     "metadata": {},
     "output_type": "execute_result"
    }
   ],
   "source": [
    "len(vec.get_feature_names())"
   ]
  },
  {
   "cell_type": "code",
   "execution_count": 10,
   "id": "1ac76aed-ef62-46ed-b1af-0d7b0dc0be06",
   "metadata": {},
   "outputs": [
    {
     "data": {
      "text/plain": [
       "{'my name is': 6,\n",
       " 'name is hassy': 7,\n",
       " 'my friend name': 5,\n",
       " 'friend name is': 1,\n",
       " 'and he is': 0,\n",
       " 'he is my': 2,\n",
       " 'is my best': 3,\n",
       " 'my best friend': 4}"
      ]
     },
     "execution_count": 10,
     "metadata": {},
     "output_type": "execute_result"
    }
   ],
   "source": [
    "vec.vocabulary_"
   ]
  }
 ],
 "metadata": {
  "kernelspec": {
   "display_name": "Python 3 (ipykernel)",
   "language": "python",
   "name": "python3"
  },
  "language_info": {
   "codemirror_mode": {
    "name": "ipython",
    "version": 3
   },
   "file_extension": ".py",
   "mimetype": "text/x-python",
   "name": "python",
   "nbconvert_exporter": "python",
   "pygments_lexer": "ipython3",
   "version": "3.9.7"
  }
 },
 "nbformat": 4,
 "nbformat_minor": 5
}
