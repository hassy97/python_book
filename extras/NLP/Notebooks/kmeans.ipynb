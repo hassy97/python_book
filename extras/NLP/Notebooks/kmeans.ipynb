{
 "cells": [
  {
   "cell_type": "code",
   "execution_count": 1,
   "id": "44cae08b-4098-42fe-9c47-86b21e1791e2",
   "metadata": {},
   "outputs": [],
   "source": [
    "corpus = open('./datasets/data1-withoutlabels.txt').read()"
   ]
  },
  {
   "cell_type": "code",
   "execution_count": 2,
   "id": "94e96176-9360-457d-b83c-143c1397bacd",
   "metadata": {},
   "outputs": [],
   "source": [
    "docs = corpus.split('\\n')\n"
   ]
  },
  {
   "cell_type": "code",
   "execution_count": 3,
   "id": "1fbc85a9-a039-4997-bc17-37089e99c3da",
   "metadata": {},
   "outputs": [
    {
     "data": {
      "text/plain": [
       "['milk bread bread bread: grocery',\n",
       " 'bread milk milk bottle :grocery',\n",
       " 'tin bread milk bread milk:grocery',\n",
       " 'cat mew mew dogs bark bark:pets',\n",
       " 'dog bark bark cat mew mew :pets',\n",
       " 'cat mew dog bark cat mew :pets']"
      ]
     },
     "execution_count": 3,
     "metadata": {},
     "output_type": "execute_result"
    }
   ],
   "source": [
    "docs"
   ]
  },
  {
   "cell_type": "code",
   "execution_count": 4,
   "id": "36e1a0fa-3cdb-443c-be0b-39e9f438ea64",
   "metadata": {},
   "outputs": [],
   "source": [
    "from sklearn.feature_extraction.text import TfidfVectorizer"
   ]
  },
  {
   "cell_type": "code",
   "execution_count": 5,
   "id": "6e1e292e-fb18-4bcb-b97d-b914beff602f",
   "metadata": {},
   "outputs": [],
   "source": [
    "vec = TfidfVectorizer()\n",
    "struct_data = vec.fit_transform(docs)"
   ]
  },
  {
   "cell_type": "code",
   "execution_count": 6,
   "id": "c6c2ab40-f18f-4576-a3cf-3bb5df63ed1b",
   "metadata": {},
   "outputs": [
    {
     "data": {
      "text/plain": [
       "<6x11 sparse matrix of type '<class 'numpy.float64'>'\n",
       "\twith 26 stored elements in Compressed Sparse Row format>"
      ]
     },
     "execution_count": 6,
     "metadata": {},
     "output_type": "execute_result"
    }
   ],
   "source": [
    "struct_data"
   ]
  },
  {
   "cell_type": "code",
   "execution_count": 7,
   "id": "a611d302-682d-4e21-a547-d981b9e65e2f",
   "metadata": {},
   "outputs": [],
   "source": [
    "from sklearn.cluster import KMeans"
   ]
  },
  {
   "cell_type": "code",
   "execution_count": 8,
   "id": "23b65187-3b4d-4b66-acef-f2d1b7b06706",
   "metadata": {},
   "outputs": [],
   "source": [
    "km = KMeans(n_clusters = 3)"
   ]
  },
  {
   "cell_type": "code",
   "execution_count": 9,
   "id": "402012af-9e79-4921-b12a-5dd33828a6cb",
   "metadata": {},
   "outputs": [
    {
     "data": {
      "text/plain": [
       "KMeans(n_clusters=3)"
      ]
     },
     "execution_count": 9,
     "metadata": {},
     "output_type": "execute_result"
    }
   ],
   "source": [
    "km"
   ]
  },
  {
   "cell_type": "code",
   "execution_count": 10,
   "id": "6dbb2572-67bb-4424-854a-670c8b9207d3",
   "metadata": {},
   "outputs": [
    {
     "data": {
      "text/plain": [
       "KMeans(n_clusters=3)"
      ]
     },
     "execution_count": 10,
     "metadata": {},
     "output_type": "execute_result"
    }
   ],
   "source": [
    "# km.fit(struct_data)\n",
    "km.fit(struct_data[:4])"
   ]
  },
  {
   "cell_type": "code",
   "execution_count": 11,
   "id": "2bfba69c-bedd-4d74-a08b-0454ad758fe1",
   "metadata": {},
   "outputs": [],
   "source": [
    "# km.labels_ # don't think as a labels these are just 2 clusters 1's in one cluster 0's in other clusters"
   ]
  },
  {
   "cell_type": "code",
   "execution_count": 12,
   "id": "e2f9ffff-b564-4125-996a-4f59b4288d3d",
   "metadata": {},
   "outputs": [
    {
     "data": {
      "text/plain": [
       "array([0, 2, 0, 1], dtype=int32)"
      ]
     },
     "execution_count": 12,
     "metadata": {},
     "output_type": "execute_result"
    }
   ],
   "source": [
    "km.labels_"
   ]
  },
  {
   "cell_type": "code",
   "execution_count": 24,
   "id": "5a933a98-1fcd-4034-9686-3c0facac53a1",
   "metadata": {},
   "outputs": [
    {
     "data": {
      "text/plain": [
       "array([1, 1], dtype=int32)"
      ]
     },
     "execution_count": 24,
     "metadata": {},
     "output_type": "execute_result"
    }
   ],
   "source": [
    "km.predict(struct_data[4:])"
   ]
  },
  {
   "cell_type": "code",
   "execution_count": 13,
   "id": "958fb2b0-ee7e-4895-bbdf-385692eee2f3",
   "metadata": {},
   "outputs": [],
   "source": [
    "# Nearest-Neighbours "
   ]
  }
 ],
 "metadata": {
  "kernelspec": {
   "display_name": "Python 3 (ipykernel)",
   "language": "python",
   "name": "python3"
  },
  "language_info": {
   "codemirror_mode": {
    "name": "ipython",
    "version": 3
   },
   "file_extension": ".py",
   "mimetype": "text/x-python",
   "name": "python",
   "nbconvert_exporter": "python",
   "pygments_lexer": "ipython3",
   "version": "3.9.7"
  }
 },
 "nbformat": 4,
 "nbformat_minor": 5
}
