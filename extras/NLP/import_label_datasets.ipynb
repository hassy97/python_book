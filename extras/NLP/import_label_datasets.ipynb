{
 "cells": [
  {
   "cell_type": "markdown",
   "id": "d606c5ed-7f91-40e8-b678-373394ac8281",
   "metadata": {},
   "source": [
    "## How to Structure the docum by using the TF_IDF text representation \n"
   ]
  },
  {
   "cell_type": "code",
   "execution_count": 1,
   "id": "03ea3121-8bcc-43d8-83fb-8d7d74510b7b",
   "metadata": {
    "tags": []
   },
   "outputs": [],
   "source": [
    "# corpus \n",
    "corpus = open('dataset.txt').read()"
   ]
  },
  {
   "cell_type": "code",
   "execution_count": 2,
   "id": "d493bdcf-129d-46b8-8df5-892151bbe5da",
   "metadata": {},
   "outputs": [],
   "source": [
    "docs = corpus.split('\\n')"
   ]
  },
  {
   "cell_type": "code",
   "execution_count": 3,
   "id": "57f20660-0b3a-43ce-9648-09833a69225b",
   "metadata": {},
   "outputs": [],
   "source": [
    "X = []\n",
    "Y = []\n",
    "\n",
    "for doc in docs:\n",
    "    i, l = doc.split(':')\n",
    "    X.append(i.strip())     # remove the leading and rare spaces in the documents for l.strip() and r.strip() \n",
    "    Y.append(l.strip())"
   ]
  },
  {
   "cell_type": "code",
   "execution_count": 4,
   "id": "f5e74780-63f9-4789-91f6-41dddba8f80b",
   "metadata": {},
   "outputs": [
    {
     "data": {
      "text/plain": [
       "['this recipe is specail for cooking snacks',\n",
       " 'I like to cook but ususally takes longer',\n",
       " 'cooking rice in microwave oven is easy',\n",
       " 'My priorities include eggs and french toasts',\n",
       " 'One need to stay fit while playing professional sports',\n",
       " 'It is very important for sportman to take care of health',\n",
       " 'professional sportsman demamnd a lot of hardwork',\n",
       " 'The only way to prove you are a good sport is to lose',\n",
       " \"I've failed over and over again in my life\",\n",
       " 'you must not only have competitiveness but ability regardless of the circumstance you face to never quit']"
      ]
     },
     "execution_count": 4,
     "metadata": {},
     "output_type": "execute_result"
    }
   ],
   "source": [
    "X"
   ]
  },
  {
   "cell_type": "code",
   "execution_count": 5,
   "id": "cc3d9ef7-2f43-4b66-8e67-5666121d4e3c",
   "metadata": {},
   "outputs": [
    {
     "data": {
      "text/plain": [
       "['cooking',\n",
       " 'cooking',\n",
       " 'cooking',\n",
       " 'cooking',\n",
       " 'sports',\n",
       " 'sports',\n",
       " 'sports',\n",
       " 'sports',\n",
       " 'sports',\n",
       " 'sports']"
      ]
     },
     "execution_count": 5,
     "metadata": {},
     "output_type": "execute_result"
    }
   ],
   "source": [
    "Y"
   ]
  },
  {
   "cell_type": "code",
   "execution_count": 6,
   "id": "3dfbcaf7-e627-4144-93a4-2b3984a7c56b",
   "metadata": {},
   "outputs": [],
   "source": [
    "from sklearn.feature_extraction.text import TfidfVectorizer"
   ]
  },
  {
   "cell_type": "code",
   "execution_count": 7,
   "id": "349596fd-40c4-49fb-9078-63ad85014027",
   "metadata": {},
   "outputs": [],
   "source": [
    "# make an object for the CountVectorizer\n",
    "vec = TfidfVectorizer()"
   ]
  },
  {
   "cell_type": "code",
   "execution_count": 8,
   "id": "ba481e6d-f6fc-41bb-84d7-df0473289829",
   "metadata": {},
   "outputs": [],
   "source": [
    "# setting a parametres for the other usecases\n",
    "\n",
    "# vec = TfidfVectorizer(min_df = 1, max_df = 2 , max_features = 8 ,ngram_range = (3,3))    # ngram is a N-token sequencec of words now we're intrested in  trigram "
   ]
  },
  {
   "cell_type": "code",
   "execution_count": 9,
   "id": "71a31f11-4200-49fa-9584-b01e58200a3d",
   "metadata": {},
   "outputs": [],
   "source": [
    "vec = TfidfVectorizer()"
   ]
  },
  {
   "cell_type": "code",
   "execution_count": 10,
   "id": "74e06eaf-c1b8-4581-9b1b-624ee549ffce",
   "metadata": {},
   "outputs": [],
   "source": [
    "# for structuring the text data we use fit_tranform ()\n",
    "Structure_data = vec.fit_transform(X)"
   ]
  },
  {
   "cell_type": "code",
   "execution_count": 11,
   "id": "05d0f487-a944-4a88-8f89-6b3406c7fc0f",
   "metadata": {},
   "outputs": [
    {
     "data": {
      "text/plain": [
       "<10x70 sparse matrix of type '<class 'numpy.float64'>'\n",
       "\twith 89 stored elements in Compressed Sparse Row format>"
      ]
     },
     "execution_count": 11,
     "metadata": {},
     "output_type": "execute_result"
    }
   ],
   "source": [
    "Structure_data"
   ]
  },
  {
   "cell_type": "code",
   "execution_count": 12,
   "id": "e406faad-7ed9-47a3-9777-18985aa9cb95",
   "metadata": {},
   "outputs": [
    {
     "data": {
      "text/plain": [
       "array([[0.        , 0.        , 0.        , 0.        , 0.        ,\n",
       "        0.        , 0.        , 0.        , 0.        , 0.35049625,\n",
       "        0.        , 0.        , 0.        , 0.        , 0.        ,\n",
       "        0.        , 0.35049625, 0.        , 0.        , 0.        ,\n",
       "        0.        , 0.        , 0.        , 0.        , 0.        ,\n",
       "        0.27262742, 0.        , 0.        , 0.        , 0.        ,\n",
       "        0.        , 0.        , 0.        , 0.        , 0.        ,\n",
       "        0.        , 0.        , 0.        , 0.        , 0.        ,\n",
       "        0.        , 0.        , 0.        , 0.        , 0.        ,\n",
       "        0.        , 0.        , 0.        , 0.41230421, 0.        ,\n",
       "        0.        , 0.41230421, 0.41230421, 0.        , 0.        ,\n",
       "        0.        , 0.        , 0.        , 0.        , 0.        ,\n",
       "        0.        , 0.41230421, 0.        , 0.        , 0.        ,\n",
       "        0.        , 0.        , 0.        , 0.        , 0.        ],\n",
       "       [0.        , 0.        , 0.        , 0.        , 0.34489151,\n",
       "        0.        , 0.        , 0.        , 0.40571111, 0.        ,\n",
       "        0.        , 0.        , 0.        , 0.        , 0.        ,\n",
       "        0.        , 0.        , 0.        , 0.        , 0.        ,\n",
       "        0.        , 0.        , 0.        , 0.        , 0.        ,\n",
       "        0.        , 0.        , 0.        , 0.40571111, 0.40571111,\n",
       "        0.        , 0.        , 0.        , 0.        , 0.        ,\n",
       "        0.        , 0.        , 0.        , 0.        , 0.        ,\n",
       "        0.        , 0.        , 0.        , 0.        , 0.        ,\n",
       "        0.        , 0.        , 0.        , 0.        , 0.        ,\n",
       "        0.        , 0.        , 0.        , 0.        , 0.        ,\n",
       "        0.        , 0.        , 0.        , 0.        , 0.40571111,\n",
       "        0.        , 0.        , 0.24091972, 0.        , 0.40571111,\n",
       "        0.        , 0.        , 0.        , 0.        , 0.        ],\n",
       "       [0.        , 0.        , 0.        , 0.        , 0.        ,\n",
       "        0.        , 0.        , 0.        , 0.        , 0.35049625,\n",
       "        0.        , 0.41230421, 0.        , 0.        , 0.        ,\n",
       "        0.        , 0.        , 0.        , 0.        , 0.        ,\n",
       "        0.        , 0.        , 0.        , 0.35049625, 0.        ,\n",
       "        0.27262742, 0.        , 0.        , 0.        , 0.        ,\n",
       "        0.        , 0.        , 0.41230421, 0.        , 0.        ,\n",
       "        0.        , 0.        , 0.        , 0.        , 0.        ,\n",
       "        0.        , 0.41230421, 0.        , 0.        , 0.        ,\n",
       "        0.        , 0.        , 0.        , 0.        , 0.        ,\n",
       "        0.41230421, 0.        , 0.        , 0.        , 0.        ,\n",
       "        0.        , 0.        , 0.        , 0.        , 0.        ,\n",
       "        0.        , 0.        , 0.        , 0.        , 0.        ,\n",
       "        0.        , 0.        , 0.        , 0.        , 0.        ],\n",
       "       [0.        , 0.        , 0.33484489, 0.        , 0.        ,\n",
       "        0.        , 0.        , 0.        , 0.        , 0.        ,\n",
       "        0.        , 0.        , 0.39389283, 0.        , 0.        ,\n",
       "        0.        , 0.        , 0.39389283, 0.        , 0.        ,\n",
       "        0.        , 0.        , 0.        , 0.        , 0.39389283,\n",
       "        0.        , 0.        , 0.        , 0.        , 0.        ,\n",
       "        0.        , 0.        , 0.        , 0.        , 0.33484489,\n",
       "        0.        , 0.        , 0.        , 0.        , 0.        ,\n",
       "        0.        , 0.        , 0.        , 0.        , 0.39389283,\n",
       "        0.        , 0.        , 0.        , 0.        , 0.        ,\n",
       "        0.        , 0.        , 0.        , 0.        , 0.        ,\n",
       "        0.        , 0.        , 0.        , 0.        , 0.        ,\n",
       "        0.        , 0.        , 0.        , 0.39389283, 0.        ,\n",
       "        0.        , 0.        , 0.        , 0.        , 0.        ],\n",
       "       [0.        , 0.        , 0.        , 0.        , 0.        ,\n",
       "        0.        , 0.        , 0.        , 0.        , 0.        ,\n",
       "        0.        , 0.        , 0.        , 0.        , 0.        ,\n",
       "        0.3519016 , 0.        , 0.        , 0.        , 0.        ,\n",
       "        0.        , 0.        , 0.        , 0.        , 0.        ,\n",
       "        0.        , 0.        , 0.        , 0.        , 0.        ,\n",
       "        0.        , 0.        , 0.        , 0.        , 0.        ,\n",
       "        0.3519016 , 0.        , 0.        , 0.        , 0.3519016 ,\n",
       "        0.        , 0.        , 0.        , 0.3519016 , 0.        ,\n",
       "        0.29914851, 0.        , 0.        , 0.        , 0.        ,\n",
       "        0.        , 0.        , 0.        , 0.        , 0.        ,\n",
       "        0.3519016 , 0.        , 0.3519016 , 0.        , 0.        ,\n",
       "        0.        , 0.        , 0.20896651, 0.        , 0.        ,\n",
       "        0.        , 0.        , 0.        , 0.3519016 , 0.        ],\n",
       "       [0.        , 0.        , 0.        , 0.        , 0.        ,\n",
       "        0.33212447, 0.        , 0.        , 0.        , 0.        ,\n",
       "        0.        , 0.        , 0.        , 0.        , 0.        ,\n",
       "        0.        , 0.28233614, 0.        , 0.        , 0.        ,\n",
       "        0.        , 0.33212447, 0.33212447, 0.        , 0.        ,\n",
       "        0.21961027, 0.33212447, 0.        , 0.        , 0.        ,\n",
       "        0.        , 0.        , 0.        , 0.        , 0.        ,\n",
       "        0.        , 0.        , 0.        , 0.24701076, 0.        ,\n",
       "        0.        , 0.        , 0.        , 0.        , 0.        ,\n",
       "        0.        , 0.        , 0.        , 0.        , 0.        ,\n",
       "        0.        , 0.        , 0.        , 0.        , 0.33212447,\n",
       "        0.        , 0.        , 0.        , 0.33212447, 0.        ,\n",
       "        0.        , 0.        , 0.19722243, 0.        , 0.        ,\n",
       "        0.        , 0.33212447, 0.        , 0.        , 0.        ],\n",
       "       [0.        , 0.        , 0.        , 0.        , 0.        ,\n",
       "        0.        , 0.        , 0.        , 0.        , 0.        ,\n",
       "        0.43536779, 0.        , 0.        , 0.        , 0.        ,\n",
       "        0.        , 0.        , 0.        , 0.        , 0.43536779,\n",
       "        0.        , 0.        , 0.        , 0.        , 0.        ,\n",
       "        0.        , 0.        , 0.        , 0.        , 0.        ,\n",
       "        0.        , 0.43536779, 0.        , 0.        , 0.        ,\n",
       "        0.        , 0.        , 0.        , 0.32379586, 0.        ,\n",
       "        0.        , 0.        , 0.        , 0.        , 0.        ,\n",
       "        0.3701024 , 0.        , 0.        , 0.        , 0.        ,\n",
       "        0.        , 0.        , 0.        , 0.        , 0.        ,\n",
       "        0.        , 0.43536779, 0.        , 0.        , 0.        ,\n",
       "        0.        , 0.        , 0.        , 0.        , 0.        ,\n",
       "        0.        , 0.        , 0.        , 0.        , 0.        ],\n",
       "       [0.        , 0.        , 0.        , 0.3159801 , 0.        ,\n",
       "        0.        , 0.        , 0.        , 0.        , 0.        ,\n",
       "        0.        , 0.        , 0.        , 0.        , 0.        ,\n",
       "        0.        , 0.        , 0.        , 0.3159801 , 0.        ,\n",
       "        0.        , 0.        , 0.        , 0.        , 0.        ,\n",
       "        0.20893514, 0.        , 0.        , 0.        , 0.        ,\n",
       "        0.3159801 , 0.        , 0.        , 0.        , 0.        ,\n",
       "        0.        , 0.        , 0.        , 0.        , 0.        ,\n",
       "        0.26861195, 0.        , 0.        , 0.        , 0.        ,\n",
       "        0.        , 0.3159801 , 0.        , 0.        , 0.        ,\n",
       "        0.        , 0.        , 0.        , 0.3159801 , 0.        ,\n",
       "        0.        , 0.        , 0.        , 0.        , 0.        ,\n",
       "        0.26861195, 0.        , 0.37527114, 0.        , 0.        ,\n",
       "        0.        , 0.        , 0.3159801 , 0.        , 0.26861195],\n",
       "       [0.        , 0.31360499, 0.26659289, 0.        , 0.        ,\n",
       "        0.        , 0.        , 0.        , 0.        , 0.        ,\n",
       "        0.        , 0.        , 0.        , 0.        , 0.31360499,\n",
       "        0.        , 0.        , 0.        , 0.        , 0.        ,\n",
       "        0.        , 0.        , 0.        , 0.26659289, 0.        ,\n",
       "        0.        , 0.        , 0.31360499, 0.        , 0.        ,\n",
       "        0.        , 0.        , 0.        , 0.        , 0.26659289,\n",
       "        0.        , 0.        , 0.        , 0.        , 0.        ,\n",
       "        0.        , 0.        , 0.62720997, 0.        , 0.        ,\n",
       "        0.        , 0.        , 0.        , 0.        , 0.        ,\n",
       "        0.        , 0.        , 0.        , 0.        , 0.        ,\n",
       "        0.        , 0.        , 0.        , 0.        , 0.        ,\n",
       "        0.        , 0.        , 0.        , 0.        , 0.        ,\n",
       "        0.31360499, 0.        , 0.        , 0.        , 0.        ],\n",
       "       [0.25027903, 0.        , 0.        , 0.        , 0.21276004,\n",
       "        0.        , 0.25027903, 0.25027903, 0.        , 0.        ,\n",
       "        0.        , 0.        , 0.        , 0.25027903, 0.        ,\n",
       "        0.        , 0.        , 0.        , 0.        , 0.        ,\n",
       "        0.25027903, 0.        , 0.        , 0.        , 0.        ,\n",
       "        0.        , 0.        , 0.        , 0.        , 0.        ,\n",
       "        0.        , 0.        , 0.        , 0.25027903, 0.        ,\n",
       "        0.        , 0.25027903, 0.25027903, 0.18613989, 0.        ,\n",
       "        0.21276004, 0.        , 0.        , 0.        , 0.        ,\n",
       "        0.        , 0.        , 0.25027903, 0.        , 0.25027903,\n",
       "        0.        , 0.        , 0.        , 0.        , 0.        ,\n",
       "        0.        , 0.        , 0.        , 0.        , 0.        ,\n",
       "        0.21276004, 0.        , 0.14862091, 0.        , 0.        ,\n",
       "        0.        , 0.        , 0.        , 0.        , 0.42552008]])"
      ]
     },
     "execution_count": 12,
     "metadata": {},
     "output_type": "execute_result"
    }
   ],
   "source": [
    "import numpy as np\n",
    "\n",
    "# convert the text data  into the frequency based representation for future use in ml predictions\n",
    "Structure_data.toarray()"
   ]
  },
  {
   "cell_type": "code",
   "execution_count": 13,
   "id": "85492a15-681a-4c25-83a8-88f462294bed",
   "metadata": {},
   "outputs": [
    {
     "data": {
      "text/plain": [
       "['ability',\n",
       " 'again',\n",
       " 'and',\n",
       " 'are',\n",
       " 'but',\n",
       " 'care',\n",
       " 'circumstance',\n",
       " 'competitiveness',\n",
       " 'cook',\n",
       " 'cooking',\n",
       " 'demamnd',\n",
       " 'easy',\n",
       " 'eggs',\n",
       " 'face',\n",
       " 'failed',\n",
       " 'fit',\n",
       " 'for',\n",
       " 'french',\n",
       " 'good',\n",
       " 'hardwork',\n",
       " 'have',\n",
       " 'health',\n",
       " 'important',\n",
       " 'in',\n",
       " 'include',\n",
       " 'is',\n",
       " 'it',\n",
       " 'life',\n",
       " 'like',\n",
       " 'longer',\n",
       " 'lose',\n",
       " 'lot',\n",
       " 'microwave',\n",
       " 'must',\n",
       " 'my',\n",
       " 'need',\n",
       " 'never',\n",
       " 'not',\n",
       " 'of',\n",
       " 'one',\n",
       " 'only',\n",
       " 'oven',\n",
       " 'over',\n",
       " 'playing',\n",
       " 'priorities',\n",
       " 'professional',\n",
       " 'prove',\n",
       " 'quit',\n",
       " 'recipe',\n",
       " 'regardless',\n",
       " 'rice',\n",
       " 'snacks',\n",
       " 'specail',\n",
       " 'sport',\n",
       " 'sportman',\n",
       " 'sports',\n",
       " 'sportsman',\n",
       " 'stay',\n",
       " 'take',\n",
       " 'takes',\n",
       " 'the',\n",
       " 'this',\n",
       " 'to',\n",
       " 'toasts',\n",
       " 'ususally',\n",
       " 've',\n",
       " 'very',\n",
       " 'way',\n",
       " 'while',\n",
       " 'you']"
      ]
     },
     "execution_count": 13,
     "metadata": {},
     "output_type": "execute_result"
    }
   ],
   "source": [
    "# get the features unique words  from the corpus \n",
    "vec.get_feature_names()"
   ]
  },
  {
   "cell_type": "code",
   "execution_count": 14,
   "id": "6defb392-14b9-4743-89e8-927a8a8e336d",
   "metadata": {},
   "outputs": [
    {
     "data": {
      "text/plain": [
       "70"
      ]
     },
     "execution_count": 14,
     "metadata": {},
     "output_type": "execute_result"
    }
   ],
   "source": [
    "len(vec.get_feature_names())"
   ]
  },
  {
   "cell_type": "code",
   "execution_count": 15,
   "id": "1ac76aed-ef62-46ed-b1af-0d7b0dc0be06",
   "metadata": {},
   "outputs": [
    {
     "data": {
      "text/plain": [
       "{'this': 61,\n",
       " 'recipe': 48,\n",
       " 'is': 25,\n",
       " 'specail': 52,\n",
       " 'for': 16,\n",
       " 'cooking': 9,\n",
       " 'snacks': 51,\n",
       " 'like': 28,\n",
       " 'to': 62,\n",
       " 'cook': 8,\n",
       " 'but': 4,\n",
       " 'ususally': 64,\n",
       " 'takes': 59,\n",
       " 'longer': 29,\n",
       " 'rice': 50,\n",
       " 'in': 23,\n",
       " 'microwave': 32,\n",
       " 'oven': 41,\n",
       " 'easy': 11,\n",
       " 'my': 34,\n",
       " 'priorities': 44,\n",
       " 'include': 24,\n",
       " 'eggs': 12,\n",
       " 'and': 2,\n",
       " 'french': 17,\n",
       " 'toasts': 63,\n",
       " 'one': 39,\n",
       " 'need': 35,\n",
       " 'stay': 57,\n",
       " 'fit': 15,\n",
       " 'while': 68,\n",
       " 'playing': 43,\n",
       " 'professional': 45,\n",
       " 'sports': 55,\n",
       " 'it': 26,\n",
       " 'very': 66,\n",
       " 'important': 22,\n",
       " 'sportman': 54,\n",
       " 'take': 58,\n",
       " 'care': 5,\n",
       " 'of': 38,\n",
       " 'health': 21,\n",
       " 'sportsman': 56,\n",
       " 'demamnd': 10,\n",
       " 'lot': 31,\n",
       " 'hardwork': 19,\n",
       " 'the': 60,\n",
       " 'only': 40,\n",
       " 'way': 67,\n",
       " 'prove': 46,\n",
       " 'you': 69,\n",
       " 'are': 3,\n",
       " 'good': 18,\n",
       " 'sport': 53,\n",
       " 'lose': 30,\n",
       " 've': 65,\n",
       " 'failed': 14,\n",
       " 'over': 42,\n",
       " 'again': 1,\n",
       " 'life': 27,\n",
       " 'must': 33,\n",
       " 'not': 37,\n",
       " 'have': 20,\n",
       " 'competitiveness': 7,\n",
       " 'ability': 0,\n",
       " 'regardless': 49,\n",
       " 'circumstance': 6,\n",
       " 'face': 13,\n",
       " 'never': 36,\n",
       " 'quit': 47}"
      ]
     },
     "execution_count": 15,
     "metadata": {},
     "output_type": "execute_result"
    }
   ],
   "source": [
    "vec.vocabulary_"
   ]
  }
 ],
 "metadata": {
  "kernelspec": {
   "display_name": "Python 3 (ipykernel)",
   "language": "python",
   "name": "python3"
  },
  "language_info": {
   "codemirror_mode": {
    "name": "ipython",
    "version": 3
   },
   "file_extension": ".py",
   "mimetype": "text/x-python",
   "name": "python",
   "nbconvert_exporter": "python",
   "pygments_lexer": "ipython3",
   "version": "3.9.7"
  }
 },
 "nbformat": 4,
 "nbformat_minor": 5
}
