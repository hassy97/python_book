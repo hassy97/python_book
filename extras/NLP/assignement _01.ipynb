{
 "cells": [
  {
   "cell_type": "markdown",
   "id": "06ba6964-2c49-4cb2-8c27-b5d04d372eb7",
   "metadata": {},
   "source": [
    "Practice converting a dataset into structured format, using the dataset from UCI repository\n",
    "about hotel reviews (https://archive.ics.uci.edu/ml/datasets/Eco-hotel) . \n",
    "Structure it with Tfidf scheme, removing noise words having doc frequency\n",
    "below 20 and stopwords having doc frequency above 200."
   ]
  },
  {
   "cell_type": "code",
   "execution_count": 45,
   "id": "fbe64501-a3c8-489c-ac6b-e411e01cc7e2",
   "metadata": {
    "tags": []
   },
   "outputs": [],
   "source": [
    "corpus = open('datasets/dataset-CalheirosMoroRita-2017.txt',encoding=\"utf8\", errors='ignore' ).read()\n",
    "#give me an error  UnicodeDecodeError: 'utf-8' codec can't decode byte 0xe9 in position 73: invalid continuation byte"
   ]
  },
  {
   "cell_type": "code",
   "execution_count": 46,
   "id": "8277b0cb-74f2-4c8d-87fb-c332edbef46f",
   "metadata": {},
   "outputs": [],
   "source": [
    "from sklearn.feature_extraction.text import TfidfVectorizer "
   ]
  },
  {
   "cell_type": "code",
   "execution_count": 47,
   "id": "5f187153-97c4-48ef-938f-058cc846b088",
   "metadata": {},
   "outputs": [],
   "source": [
    "vec = TfidfVectorizer()"
   ]
  },
  {
   "cell_type": "code",
   "execution_count": 48,
   "id": "b7cfe310-b6e1-4007-b740-032f65dc9e24",
   "metadata": {},
   "outputs": [],
   "source": [
    "docs = corpus.split('\\n')"
   ]
  },
  {
   "cell_type": "code",
   "execution_count": 49,
   "id": "c5c7a16b-2256-42bf-9102-0dde9c0823bd",
   "metadata": {},
   "outputs": [
    {
     "name": "stderr",
     "output_type": "stream",
     "text": [
      "[nltk_data] Downloading package stopwords to\n",
      "[nltk_data]     /home/hassaan/nltk_data...\n",
      "[nltk_data]   Package stopwords is already up-to-date!\n"
     ]
    },
    {
     "data": {
      "text/plain": [
       "True"
      ]
     },
     "execution_count": 49,
     "metadata": {},
     "output_type": "execute_result"
    }
   ],
   "source": [
    "import nltk\n",
    "nltk.download('stopwords')"
   ]
  },
  {
   "cell_type": "code",
   "execution_count": 50,
   "id": "753c4984-a1ab-40a3-b0a5-3cfb1d35c898",
   "metadata": {},
   "outputs": [],
   "source": [
    "# from gensim.parsing.preprocessing import remove_stopwords"
   ]
  },
  {
   "cell_type": "code",
   "execution_count": 51,
   "id": "2389f2e9-6e13-49e7-b6e5-4931d5eb3956",
   "metadata": {},
   "outputs": [],
   "source": [
    "from nltk.corpus import stopwords\n",
    "final_stopwords_list = stopwords.words('english') "
   ]
  },
  {
   "cell_type": "code",
   "execution_count": 68,
   "id": "0e8eeb45-7755-4f99-9455-6f5a1e659eef",
   "metadata": {},
   "outputs": [],
   "source": [
    " vec = TfidfVectorizer(min_df = 2, max_df = 200 , max_features = 289 ,ngram_range = (3,3),stop_words=final_stopwords_list)"
   ]
  },
  {
   "cell_type": "code",
   "execution_count": 69,
   "id": "b0e47291-3213-42ac-a9a1-da71270c7983",
   "metadata": {},
   "outputs": [],
   "source": [
    "# X = filtered_sentence"
   ]
  },
  {
   "cell_type": "code",
   "execution_count": 70,
   "id": "4b6a93b7-4294-414b-80a0-7d8dbcf2a3bb",
   "metadata": {},
   "outputs": [],
   "source": [
    "# type(filtered_sentence)"
   ]
  },
  {
   "cell_type": "code",
   "execution_count": 71,
   "id": "9ca23577-a55b-4b6d-98fc-28f645b4293d",
   "metadata": {},
   "outputs": [],
   "source": [
    "Structure_data = vec.fit_transform(docs)"
   ]
  },
  {
   "cell_type": "code",
   "execution_count": 72,
   "id": "64a70a25-1ce0-4009-9246-662031746761",
   "metadata": {},
   "outputs": [
    {
     "data": {
      "text/plain": [
       "<653x124 sparse matrix of type '<class 'numpy.float64'>'\n",
       "\twith 318 stored elements in Compressed Sparse Row format>"
      ]
     },
     "execution_count": 72,
     "metadata": {},
     "output_type": "execute_result"
    }
   ],
   "source": [
    "Structure_data"
   ]
  },
  {
   "cell_type": "code",
   "execution_count": 73,
   "id": "4e9a7567-0a3a-4921-8711-cb8d81208f7f",
   "metadata": {},
   "outputs": [
    {
     "data": {
      "text/plain": [
       "array([[0., 0., 0., ..., 0., 0., 0.],\n",
       "       [0., 0., 0., ..., 0., 0., 0.],\n",
       "       [0., 0., 0., ..., 0., 0., 0.],\n",
       "       ...,\n",
       "       [0., 0., 0., ..., 0., 0., 0.],\n",
       "       [0., 0., 0., ..., 0., 0., 0.],\n",
       "       [0., 0., 0., ..., 0., 0., 0.]])"
      ]
     },
     "execution_count": 73,
     "metadata": {},
     "output_type": "execute_result"
    }
   ],
   "source": [
    "Structure_data.toarray()"
   ]
  },
  {
   "cell_type": "code",
   "execution_count": 74,
   "id": "7f7be66b-0513-4b90-83a4-4c83dd8068e6",
   "metadata": {},
   "outputs": [
    {
     "data": {
      "text/plain": [
       "['1000 thanks wonderful',\n",
       " 'activities excursions surroundings',\n",
       " 'amazing staff thank',\n",
       " 'areas seixo magical',\n",
       " 'areas seixo team',\n",
       " 'areas seixo truly',\n",
       " 'aspect improved understand',\n",
       " 'attention detail lighting',\n",
       " 'back one day',\n",
       " 'buckwheat empty matured',\n",
       " 'cabbage turnips buckwheat',\n",
       " 'ceremonious missed information',\n",
       " 'charm simplicity elegance',\n",
       " 'chef leonardo pereira',\n",
       " 'chef leonardo team',\n",
       " 'children 10 years',\n",
       " 'children age 10',\n",
       " 'children young 10',\n",
       " 'come back magical',\n",
       " 'come back one',\n",
       " 'come back recommend',\n",
       " 'come back remember',\n",
       " 'come back soon',\n",
       " 'come back sure',\n",
       " 'come back thank',\n",
       " 'congratulations come back',\n",
       " 'course looks times',\n",
       " 'dcor amazing staff',\n",
       " 'dear areas seixo',\n",
       " 'definitely come back',\n",
       " 'definitely plan return',\n",
       " 'design charm simplicity',\n",
       " 'dinner dishes stay',\n",
       " 'dinner tasting menu',\n",
       " 'dishes stay long',\n",
       " 'doubt experience repeat',\n",
       " 'dream come true',\n",
       " 'elegance us real',\n",
       " 'empty matured wonderful',\n",
       " 'every single detail',\n",
       " 'every single details',\n",
       " 'every single moment',\n",
       " 'extraordinary dinner dishes',\n",
       " 'fantastic stay hotel',\n",
       " 'fitting perfectly nature',\n",
       " 'flexible negotiations slow',\n",
       " 'food good also',\n",
       " 'food thank much',\n",
       " 'forward coming back',\n",
       " 'hope come back',\n",
       " 'hotel areas seixo',\n",
       " 'improved understand staff',\n",
       " 'information possibilities activities',\n",
       " 'long memory pate',\n",
       " 'look forward return',\n",
       " 'looking us well',\n",
       " 'looks times starter',\n",
       " 'loved come back',\n",
       " 'loved design charm',\n",
       " 'loved everything every',\n",
       " 'loved everything place',\n",
       " 'loved place service',\n",
       " 'made stay wonderful',\n",
       " 'made us feel',\n",
       " 'magical place thanks',\n",
       " 'main course looks',\n",
       " 'make feel home',\n",
       " 'make us feel',\n",
       " 'makes us feel',\n",
       " 'making us feel',\n",
       " 'many thanks everybody',\n",
       " 'many thanks everything',\n",
       " 'matured wonderful stay',\n",
       " 'memory pate cabbage',\n",
       " 'menu diner expensive',\n",
       " 'missed information possibilities',\n",
       " 'moment areas seixo',\n",
       " 'needs flexible negotiations',\n",
       " 'negotiations slow ceremonious',\n",
       " 'next time really',\n",
       " 'ordered tasting menu',\n",
       " 'pate cabbage turnips',\n",
       " 'place come back',\n",
       " 'place look forward',\n",
       " 'place thank much',\n",
       " 'possibilities activities excursions',\n",
       " 'price vegetarian menu',\n",
       " 'room environment food',\n",
       " 'seixo truly special',\n",
       " 'served areas seixo',\n",
       " 'simplicity elegance us',\n",
       " 'slow ceremonious missed',\n",
       " 'spacious rooms cozy',\n",
       " 'special thank staff',\n",
       " 'staff friendly welcoming',\n",
       " 'staff needs flexible',\n",
       " 'starter main course',\n",
       " 'stay areas seixo',\n",
       " 'stay long memory',\n",
       " 'success see soon',\n",
       " 'sure come back',\n",
       " 'thank fantastic stay',\n",
       " 'thank much everything',\n",
       " 'thank staff making',\n",
       " 'thank wonderful days',\n",
       " 'thank wonderful experience',\n",
       " 'thank wonderful stay',\n",
       " 'thank wonderful weekend',\n",
       " 'time areas seixo',\n",
       " 'time come back',\n",
       " 'times starter main',\n",
       " 'truly special place',\n",
       " 'turnips buckwheat empty',\n",
       " 'understand staff needs',\n",
       " 'us feel home',\n",
       " 'us real luxury',\n",
       " 'vegetarian main course',\n",
       " 'vegetarian menu diner',\n",
       " 'wait come back',\n",
       " 'want come back',\n",
       " 'would definitely come',\n",
       " 'would definitely recommend',\n",
       " 'would like thank',\n",
       " 'young 10 years']"
      ]
     },
     "execution_count": 74,
     "metadata": {},
     "output_type": "execute_result"
    }
   ],
   "source": [
    "# get the features unique words  from the corpus \n",
    "vec.get_feature_names()"
   ]
  },
  {
   "cell_type": "code",
   "execution_count": 75,
   "id": "82149f1c-8f63-4565-8d91-880fe4913451",
   "metadata": {},
   "outputs": [
    {
     "data": {
      "text/plain": [
       "124"
      ]
     },
     "execution_count": 75,
     "metadata": {},
     "output_type": "execute_result"
    }
   ],
   "source": [
    "len(vec.get_feature_names())"
   ]
  },
  {
   "cell_type": "code",
   "execution_count": 76,
   "id": "3a013b0e-6d68-4b82-b2cd-3f99fde4dbb2",
   "metadata": {},
   "outputs": [
    {
     "data": {
      "text/plain": [
       "{'loved come back': 57,\n",
       " 'hope come back': 49,\n",
       " 'come back soon': 22,\n",
       " 'every single details': 40,\n",
       " 'congratulations come back': 25,\n",
       " 'come back sure': 23,\n",
       " 'thank wonderful stay': 106,\n",
       " 'making us feel': 69,\n",
       " 'us feel home': 114,\n",
       " 'stay areas seixo': 97,\n",
       " 'place come back': 82,\n",
       " 'chef leonardo pereira': 13,\n",
       " 'come back recommend': 20,\n",
       " 'made us feel': 63,\n",
       " 'every single detail': 39,\n",
       " 'hotel areas seixo': 50,\n",
       " 'makes us feel': 68,\n",
       " 'want come back': 119,\n",
       " 'come back magical': 18,\n",
       " 'areas seixo magical': 3,\n",
       " 'loved place service': 61,\n",
       " 'next time really': 79,\n",
       " 'fitting perfectly nature': 44,\n",
       " 'spacious rooms cozy': 92,\n",
       " 'come back one': 19,\n",
       " 'back one day': 8,\n",
       " 'chef leonardo team': 14,\n",
       " 'dear areas seixo': 28,\n",
       " 'areas seixo team': 4,\n",
       " 'served areas seixo': 89,\n",
       " 'come back remember': 21,\n",
       " 'thank wonderful experience': 105,\n",
       " 'doubt experience repeat': 35,\n",
       " 'special thank staff': 93,\n",
       " 'loved everything every': 59,\n",
       " 'dcor amazing staff': 27,\n",
       " 'make feel home': 66,\n",
       " 'made stay wonderful': 62,\n",
       " 'look forward return': 54,\n",
       " 'every single moment': 41,\n",
       " 'extraordinary dinner dishes': 42,\n",
       " 'dinner dishes stay': 32,\n",
       " 'dishes stay long': 34,\n",
       " 'stay long memory': 98,\n",
       " 'long memory pate': 53,\n",
       " 'memory pate cabbage': 73,\n",
       " 'pate cabbage turnips': 81,\n",
       " 'cabbage turnips buckwheat': 10,\n",
       " 'turnips buckwheat empty': 112,\n",
       " 'buckwheat empty matured': 9,\n",
       " 'empty matured wonderful': 38,\n",
       " 'matured wonderful stay': 72,\n",
       " 'time areas seixo': 108,\n",
       " 'thank wonderful weekend': 107,\n",
       " 'dream come true': 36,\n",
       " 'time come back': 109,\n",
       " 'wait come back': 118,\n",
       " 'sure come back': 100,\n",
       " 'success see soon': 99,\n",
       " 'thank much everything': 102,\n",
       " 'staff friendly welcoming': 94,\n",
       " 'would like thank': 122,\n",
       " 'room environment food': 87,\n",
       " 'loved everything place': 60,\n",
       " 'come back thank': 24,\n",
       " 'food good also': 46,\n",
       " 'magical place thanks': 64,\n",
       " 'amazing staff thank': 2,\n",
       " 'loved design charm': 58,\n",
       " 'design charm simplicity': 31,\n",
       " 'charm simplicity elegance': 12,\n",
       " 'simplicity elegance us': 90,\n",
       " 'elegance us real': 37,\n",
       " 'us real luxury': 115,\n",
       " 'aspect improved understand': 6,\n",
       " 'improved understand staff': 51,\n",
       " 'understand staff needs': 113,\n",
       " 'staff needs flexible': 95,\n",
       " 'needs flexible negotiations': 77,\n",
       " 'flexible negotiations slow': 45,\n",
       " 'negotiations slow ceremonious': 78,\n",
       " 'slow ceremonious missed': 91,\n",
       " 'ceremonious missed information': 11,\n",
       " 'missed information possibilities': 75,\n",
       " 'information possibilities activities': 52,\n",
       " 'possibilities activities excursions': 85,\n",
       " 'activities excursions surroundings': 1,\n",
       " 'ordered tasting menu': 80,\n",
       " 'children young 10': 17,\n",
       " 'young 10 years': 123,\n",
       " 'children 10 years': 15,\n",
       " 'children age 10': 16,\n",
       " 'food thank much': 47,\n",
       " 'make us feel': 67,\n",
       " 'many thanks everything': 71,\n",
       " '1000 thanks wonderful': 0,\n",
       " 'thank staff making': 103,\n",
       " 'fantastic stay hotel': 43,\n",
       " 'thank fantastic stay': 101,\n",
       " 'definitely come back': 29,\n",
       " 'place thank much': 84,\n",
       " 'place look forward': 83,\n",
       " 'forward coming back': 48,\n",
       " 'attention detail lighting': 7,\n",
       " 'definitely plan return': 30,\n",
       " 'looking us well': 55,\n",
       " 'truly special place': 111,\n",
       " 'moment areas seixo': 76,\n",
       " 'price vegetarian menu': 86,\n",
       " 'vegetarian menu diner': 117,\n",
       " 'menu diner expensive': 74,\n",
       " 'vegetarian main course': 116,\n",
       " 'main course looks': 65,\n",
       " 'course looks times': 26,\n",
       " 'looks times starter': 56,\n",
       " 'times starter main': 110,\n",
       " 'starter main course': 96,\n",
       " 'dinner tasting menu': 33,\n",
       " 'would definitely come': 120,\n",
       " 'areas seixo truly': 5,\n",
       " 'seixo truly special': 88,\n",
       " 'would definitely recommend': 121,\n",
       " 'thank wonderful days': 104,\n",
       " 'many thanks everybody': 70}"
      ]
     },
     "execution_count": 76,
     "metadata": {},
     "output_type": "execute_result"
    }
   ],
   "source": [
    "vec.vocabulary_"
   ]
  },
  {
   "cell_type": "code",
   "execution_count": null,
   "id": "c1ebe839-f3c6-49ce-9b00-00ef51717eca",
   "metadata": {},
   "outputs": [],
   "source": []
  }
 ],
 "metadata": {
  "kernelspec": {
   "display_name": "Python 3 (ipykernel)",
   "language": "python",
   "name": "python3"
  },
  "language_info": {
   "codemirror_mode": {
    "name": "ipython",
    "version": 3
   },
   "file_extension": ".py",
   "mimetype": "text/x-python",
   "name": "python",
   "nbconvert_exporter": "python",
   "pygments_lexer": "ipython3",
   "version": "3.9.7"
  }
 },
 "nbformat": 4,
 "nbformat_minor": 5
}
